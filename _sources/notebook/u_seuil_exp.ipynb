{
 "cells": [
  {
   "cell_type": "markdown",
   "id": "advised-identifier",
   "metadata": {},
   "source": [
    "(u_seuil)=\n",
    "# Complément : Détermination de la tension seuil\n",
    "On explique ici la méthode utilisée pour déterminer la tension seuil. Il ne s'agit pas forcément de la méthode la plus efficace mais elle donne des résultats relativement corrects et est assez simple à expliquer.\n",
    "\n",
    "## Principe\n",
    "Le principe de la méthode est similaire à la méthode des moindres carrés :\n",
    "1. On choisit une valeur de $U_d$ arbitraire. On a alors une caractéristique modèle $(i=0; u \\leq U_D); (i\\geq 0; u=U_D)$\n",
    "2. On calcule pour chaque point de mesure la distance $d_i$ entre chaque point de mesure $(u_i, i_i)$ et la caractéristique modèle. Cette dernière étant composée de deux demi-droite ($i=0$ et $u=U_D$), il s'agit de calculer pour chaque point le minimum entre les deux distances à ces deux droites soit $d_i = \\min(\\abs(i_i), \\abs(u_i-U_D))$\n",
    "3. On somme toutes les distances au carré pour obtenir une grandeur dépendant du jeu de donnée et de la valeur $U_D choisie : $\\Gamma_{exp}(U_D) = \\sum_i d_i^2$.\n",
    "4. On réalise ce calcul pour un grand nombre de valeur de $U_D$ dans un intervalle où on pense que la tension seuil se situe.\n",
    "5. On détermine le minimum de cette fonction : la valeur de $U_D$ correspondante sera l'estimation de la tension seuil.\n",
    "\n",
    "## Implémentation\n",
    "L'implémentation est donnée ci-dessous avec un exemple avec un jeu de données expérimentales."
   ]
  },
  {
   "cell_type": "code",
   "execution_count": 1,
   "id": "pleasant-census",
   "metadata": {},
   "outputs": [
    {
     "ename": "TypeError",
     "evalue": "eval_ud() missing 2 required positional arguments: 'ud_min' and 'ud_max'",
     "output_type": "error",
     "traceback": [
      "\u001b[0;31m---------------------------------------------------------------------------\u001b[0m",
      "\u001b[0;31mTypeError\u001b[0m                                 Traceback (most recent call last)",
      "\u001b[0;32m<ipython-input-1-95b03fb69b7b>\u001b[0m in \u001b[0;36m<module>\u001b[0;34m\u001b[0m\n\u001b[1;32m     37\u001b[0m     \u001b[0;32mreturn\u001b[0m \u001b[0mud\u001b[0m\u001b[0;34m[\u001b[0m\u001b[0mnp\u001b[0m\u001b[0;34m.\u001b[0m\u001b[0margmin\u001b[0m\u001b[0;34m(\u001b[0m\u001b[0mdud\u001b[0m\u001b[0;34m)\u001b[0m\u001b[0;34m]\u001b[0m\u001b[0;34m\u001b[0m\u001b[0;34m\u001b[0m\u001b[0m\n\u001b[1;32m     38\u001b[0m \u001b[0;34m\u001b[0m\u001b[0m\n\u001b[0;32m---> 39\u001b[0;31m \u001b[0mprint\u001b[0m\u001b[0;34m(\u001b[0m\u001b[0meval_ud\u001b[0m\u001b[0;34m(\u001b[0m\u001b[0mu\u001b[0m\u001b[0;34m,\u001b[0m \u001b[0mi\u001b[0m\u001b[0;34m)\u001b[0m\u001b[0;34m)\u001b[0m  \u001b[0;31m# A titre d'exemple\u001b[0m\u001b[0;34m\u001b[0m\u001b[0;34m\u001b[0m\u001b[0m\n\u001b[0m",
      "\u001b[0;31mTypeError\u001b[0m: eval_ud() missing 2 required positional arguments: 'ud_min' and 'ud_max'"
     ]
    }
   ],
   "source": [
    "\"\"\" On importe pour vous les bibliothèques scientifiques utiles.\"\"\"\n",
    "import numpy as np\n",
    "import matplotlib.pyplot as plt\n",
    "\n",
    "# On a mesuré des valeurs fluctuantes donc on rentre les vecteurs correspondant aux valeurs extrêmes\n",
    "# Il serviront à calculer les valeurs mesurées et incertitudes.\n",
    "umax = np.array([-10.77, -6.871, -0.8418, 0.6576, 0.7396, 0.7822, 0.8683, 0.8179, 0.8613])  # Valeurs de tensions\n",
    "umin = np.array([-10.769, -6.87, -0.8414, 0.6575, 0.7394, 0.7816, 0.8683, 0.8177, 0.8608])  # Valeurs de tensions\n",
    "imax = np.array([0, 0, 0, 2.243, 8.28, 14.349, 35.485, 21.513, 33.134])  # Valeurs d'intensité\n",
    "imin = np.array([0.001, 0.001, 0.002, 2.244, 8.281, 14.352, 35.487, 21.515, 33.137, ])  # Valeurs d'intensité\n",
    "\n",
    "u = (umax + umin) / 2  # Valeurs de tensions\n",
    "i = (imax + imin) / 2  # Valeurs d'intensité\n",
    "\n",
    "uu = (umax - umin) / 2  # Incertitudes sur les tensions (ce sera un vecteur numpy)\n",
    "ui = (imax - imin) / 2  # Incertitudes sur les intensités (ce sera un vecteur numpy)\n",
    "\n",
    "\n",
    "def eval_ud(u, i, ud_min, ud_max):\n",
    "    \"\"\"Fonction qui évalue la tension seuil la plus adaptée au tracé expérimental\n",
    "    u : Vecteur contenu les mesures de tension\n",
    "    i : Vecteur contenu les mesures d'intensité\n",
    "    ud_min, ud_max : Flottant délimitant l'intervalle dans lequel on recherche UD\n",
    "\n",
    "    Renvoie : un flottant correspondant à la valeur de ud optimale\n",
    "    \"\"\"\n",
    "    N = 1000  # Nombre de valeur de ud qui seront testée entre 0 et 1 V\n",
    "    n = len(u)\n",
    "    ud = np.linspace(ud_min, ud_max, N)  # Valeurs de ud testées\n",
    "    dud = np.zeros(N)  # On stocke l'estimateur qui permettra de décider quelle valeur de ud est la meilleure\n",
    "    for k in range(N):  # Calcul de l'estimateur\n",
    "        ds = 0\n",
    "        for j in range(n):\n",
    "            d = min(abs(u[j]-ud[k]), i[j])\n",
    "            ds = ds + d ** 2\n",
    "        dud[k] = ds\n",
    "    return ud[np.argmin(dud)]\n",
    "\n",
    "print(eval_ud(u, i))  # A titre d'exemple\n"
   ]
  },
  {
   "cell_type": "markdown",
   "id": "needed-winner",
   "metadata": {},
   "source": [
    "## Améliorations possibles\n",
    "On peut imaginer deux améliorations :\n",
    "* Cette méthode ne tient pas compte des incertitudes. On pourrait facilement en tenir compte avec une simulations de Monte-Carlo. Il suffirait de créer N fois un jeu de données à partir des estimations de $u, i, u(i), u(u)$, d'estimer à chaque fois la tension seuil associée. Les données statistiques moyenne et écart-type donnerait la valeur mesurée et l'incertitude-type.\n",
    "* La recherche du minimum n'est pas optimale. On pourrait imaginer des méthodes plus efficaces basée sur un calcul de la dérivée numérique de $\\Gamma(U_D)$ puis une recherche de 0 pour cette fonction.\n",
    "\n",
    "A défaut, on donne ci-dessous le tracé de $\\Gamma(U_D)$"
   ]
  },
  {
   "cell_type": "code",
   "execution_count": null,
   "id": "spare-marijuana",
   "metadata": {},
   "outputs": [],
   "source": [
    "def gamma_ud(u, i, ud):\n",
    "    n = len(u)\n",
    "    ds = 0\n",
    "    for j in range(n):\n",
    "        d = min(abs(u[j]-ud), i[j])\n",
    "        ds = ds + d ** 2\n",
    "    return ds\n",
    "\n",
    "ud_test = np.linspace(0, 1, 1000)\n",
    "gamma_test = np.array([gamma_ud(u, i, x) for x in ud_test])\n",
    "\n",
    "f, ax =  plt.subplots()\n",
    "ax.set_xlabel(\"Ud(V)\")\n",
    "ax.set_ylabel(\"Gamma(Ud)\")\n",
    "ax.plot(ud_test, gamma_test)\n",
    "ax.grid()\n",
    "plt.show()"
   ]
  }
 ],
 "metadata": {
  "jupytext": {
   "encoding": "# -*- coding: utf-8 -*-",
   "formats": "ipynb,md:myst",
   "split_at_heading": true,
   "text_representation": {
    "extension": ".md",
    "format_name": "myst",
    "format_version": 0.13,
    "jupytext_version": "1.10.3"
   }
  },
  "kernelspec": {
   "display_name": "Python 3",
   "language": "python",
   "name": "python3"
  },
  "language_info": {
   "codemirror_mode": {
    "name": "ipython",
    "version": 3
   },
   "file_extension": ".py",
   "mimetype": "text/x-python",
   "name": "python",
   "nbconvert_exporter": "python",
   "pygments_lexer": "ipython3",
   "version": "3.9.2"
  },
  "source_map": [
   15,
   32,
   73,
   82
  ]
 },
 "nbformat": 4,
 "nbformat_minor": 5
}